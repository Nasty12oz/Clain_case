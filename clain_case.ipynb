{
 "cells": [
  {
   "cell_type": "code",
   "execution_count": 373,
   "metadata": {},
   "outputs": [],
   "source": [
    "# imports\n",
    "import pandas as pd\n",
    "import numpy as np"
   ]
  },
  {
   "cell_type": "code",
   "execution_count": 374,
   "metadata": {},
   "outputs": [],
   "source": [
    "# read the data\n",
    "class_data, stats_data = pd.read_csv('address_clust.csv'), pd.read_csv('address_stats.csv')"
   ]
  },
  {
   "cell_type": "code",
   "execution_count": 375,
   "metadata": {},
   "outputs": [],
   "source": [
    "# merge dataframe, name 'zero' claster and drop excess columns\n",
    "data_all = class_data.merge(stats_data, how='outer').drop(columns=['id','address_id']).fillna({'cluster_id':0})"
   ]
  },
  {
   "cell_type": "code",
   "execution_count": 376,
   "metadata": {},
   "outputs": [],
   "source": [
    "# group data by transaction and count sent & recived money\n",
    "b = data_all.groupby(['transaction_id', 'cluster_id']).agg({'received':'sum', 'sent' : 'sum'}).reset_index()"
   ]
  },
  {
   "cell_type": "code",
   "execution_count": 377,
   "metadata": {
    "scrolled": true
   },
   "outputs": [
    {
     "data": {
      "text/html": [
       "<div>\n",
       "<style scoped>\n",
       "    .dataframe tbody tr th:only-of-type {\n",
       "        vertical-align: middle;\n",
       "    }\n",
       "\n",
       "    .dataframe tbody tr th {\n",
       "        vertical-align: top;\n",
       "    }\n",
       "\n",
       "    .dataframe thead th {\n",
       "        text-align: right;\n",
       "    }\n",
       "</style>\n",
       "<table border=\"1\" class=\"dataframe\">\n",
       "  <thead>\n",
       "    <tr style=\"text-align: right;\">\n",
       "      <th></th>\n",
       "      <th>transaction_id</th>\n",
       "      <th>cluster_id_x</th>\n",
       "      <th>received_x</th>\n",
       "      <th>sent_x</th>\n",
       "      <th>cluster_id_y</th>\n",
       "      <th>received_y</th>\n",
       "      <th>sent_y</th>\n",
       "      <th>cluster_id</th>\n",
       "      <th>received</th>\n",
       "      <th>sent</th>\n",
       "    </tr>\n",
       "  </thead>\n",
       "  <tbody>\n",
       "    <tr>\n",
       "      <th>0</th>\n",
       "      <td>19162323</td>\n",
       "      <td>1.0</td>\n",
       "      <td>1000000.0</td>\n",
       "      <td>0.0</td>\n",
       "      <td>NaN</td>\n",
       "      <td>0.0</td>\n",
       "      <td>0.0</td>\n",
       "      <td>0.0</td>\n",
       "      <td>1821052.0</td>\n",
       "      <td>2871052.0</td>\n",
       "    </tr>\n",
       "    <tr>\n",
       "      <th>1</th>\n",
       "      <td>19166856</td>\n",
       "      <td>1.0</td>\n",
       "      <td>0.0</td>\n",
       "      <td>1000000.0</td>\n",
       "      <td>NaN</td>\n",
       "      <td>0.0</td>\n",
       "      <td>0.0</td>\n",
       "      <td>0.0</td>\n",
       "      <td>990000.0</td>\n",
       "      <td>0.0</td>\n",
       "    </tr>\n",
       "    <tr>\n",
       "      <th>2</th>\n",
       "      <td>19174421</td>\n",
       "      <td>1.0</td>\n",
       "      <td>200000.0</td>\n",
       "      <td>0.0</td>\n",
       "      <td>NaN</td>\n",
       "      <td>0.0</td>\n",
       "      <td>0.0</td>\n",
       "      <td>0.0</td>\n",
       "      <td>4590000.0</td>\n",
       "      <td>4800000.0</td>\n",
       "    </tr>\n",
       "    <tr>\n",
       "      <th>3</th>\n",
       "      <td>19190163</td>\n",
       "      <td>1.0</td>\n",
       "      <td>0.0</td>\n",
       "      <td>200000.0</td>\n",
       "      <td>NaN</td>\n",
       "      <td>0.0</td>\n",
       "      <td>0.0</td>\n",
       "      <td>0.0</td>\n",
       "      <td>150000.0</td>\n",
       "      <td>0.0</td>\n",
       "    </tr>\n",
       "    <tr>\n",
       "      <th>4</th>\n",
       "      <td>19205422</td>\n",
       "      <td>1.0</td>\n",
       "      <td>1000000.0</td>\n",
       "      <td>0.0</td>\n",
       "      <td>NaN</td>\n",
       "      <td>0.0</td>\n",
       "      <td>0.0</td>\n",
       "      <td>0.0</td>\n",
       "      <td>1671052.0</td>\n",
       "      <td>2721052.0</td>\n",
       "    </tr>\n",
       "  </tbody>\n",
       "</table>\n",
       "</div>"
      ],
      "text/plain": [
       "   transaction_id  cluster_id_x  received_x     sent_x  cluster_id_y  \\\n",
       "0        19162323           1.0   1000000.0        0.0           NaN   \n",
       "1        19166856           1.0         0.0  1000000.0           NaN   \n",
       "2        19174421           1.0    200000.0        0.0           NaN   \n",
       "3        19190163           1.0         0.0   200000.0           NaN   \n",
       "4        19205422           1.0   1000000.0        0.0           NaN   \n",
       "\n",
       "   received_y  sent_y  cluster_id   received       sent  \n",
       "0         0.0     0.0         0.0  1821052.0  2871052.0  \n",
       "1         0.0     0.0         0.0   990000.0        0.0  \n",
       "2         0.0     0.0         0.0  4590000.0  4800000.0  \n",
       "3         0.0     0.0         0.0   150000.0        0.0  \n",
       "4         0.0     0.0         0.0  1671052.0  2721052.0  "
      ]
     },
     "execution_count": 377,
     "metadata": {},
     "output_type": "execute_result"
    }
   ],
   "source": [
    "# create dataframe with 1 row : all transaction information\n",
    "# in case of many clasters better use pivot\n",
    "zero = b.loc[b.cluster_id == 0.0]\n",
    "one = b.loc[b.cluster_id == 1.0]\n",
    "two = b.loc[b.cluster_id == 2.0]\n",
    "\n",
    "recive_sent = one.merge(two, how='outer', on='transaction_id').merge(zero, how='outer', on='transaction_id').\\\n",
    "fillna({'received_x':0, 'sent_x':0, 'received_y':0, 'sent_y':0, 'received':0, 'sent':0})\n",
    "recive_sent.head()"
   ]
  },
  {
   "cell_type": "code",
   "execution_count": 378,
   "metadata": {},
   "outputs": [],
   "source": [
    "#__count money gained from one claster to other\n",
    "\n",
    "def money_clasters(data, new_column_name, claster_from, claster_to, other_claster_to):\n",
    "    data.loc[:, new_column_name] = 0\n",
    "    data.loc[(data[claster_from] > 0) & (data[claster_to] > 0),\n",
    "             [new_column_name]] = data.loc[:, claster_from] - data.loc[:, other_claster_to]\n",
    "    "
   ]
  },
  {
   "cell_type": "code",
   "execution_count": 379,
   "metadata": {},
   "outputs": [],
   "source": [
    "money_clasters(recive_sent, 'one_to_two', 'sent_x', 'received_y', 'received')\n",
    "money_clasters(recive_sent, 'two_to_one', 'sent_y', 'received_x', 'received')\n",
    "money_clasters(recive_sent, 'zero_to_two', 'sent', 'received_y', 'received_x')\n",
    "money_clasters(recive_sent, 'two_to_zero', 'sent_y', 'received', 'received_x')"
   ]
  },
  {
   "cell_type": "code",
   "execution_count": 380,
   "metadata": {},
   "outputs": [],
   "source": [
    "# count fee\n",
    "\n",
    "# 1-claster fee\n",
    "recive_sent.loc[:, 'one_fee'] = 0\n",
    "recive_sent.loc[(recive_sent.sent_x > 0),\n",
    "['one_fee']] = recive_sent.loc[:, 'sent_x'] - (recive_sent.loc[:, 'received_y'] + recive_sent.loc[:, 'received'] )\n",
    "\n",
    "# 2-claster fee\n",
    "recive_sent.loc[:, 'two_fee'] = 0\n",
    "recive_sent.loc[(recive_sent.sent_y > 0),\n",
    "['two_fee']] = recive_sent.loc[:, 'sent_y'] - (recive_sent.loc[:, 'received_x'] + recive_sent.loc[:, 'received'] )"
   ]
  },
  {
   "cell_type": "code",
   "execution_count": 381,
   "metadata": {},
   "outputs": [
    {
     "data": {
      "text/html": [
       "<div>\n",
       "<style scoped>\n",
       "    .dataframe tbody tr th:only-of-type {\n",
       "        vertical-align: middle;\n",
       "    }\n",
       "\n",
       "    .dataframe tbody tr th {\n",
       "        vertical-align: top;\n",
       "    }\n",
       "\n",
       "    .dataframe thead th {\n",
       "        text-align: right;\n",
       "    }\n",
       "</style>\n",
       "<table border=\"1\" class=\"dataframe\">\n",
       "  <thead>\n",
       "    <tr style=\"text-align: right;\">\n",
       "      <th></th>\n",
       "      <th>bitcoin</th>\n",
       "    </tr>\n",
       "  </thead>\n",
       "  <tbody>\n",
       "    <tr>\n",
       "      <th>one_to_two</th>\n",
       "      <td>149.948516</td>\n",
       "    </tr>\n",
       "    <tr>\n",
       "      <th>two_to_one</th>\n",
       "      <td>1026.372663</td>\n",
       "    </tr>\n",
       "    <tr>\n",
       "      <th>zero_to_two</th>\n",
       "      <td>26.036068</td>\n",
       "    </tr>\n",
       "    <tr>\n",
       "      <th>two_to_zero</th>\n",
       "      <td>4.876490</td>\n",
       "    </tr>\n",
       "    <tr>\n",
       "      <th>one_fee</th>\n",
       "      <td>210.467653</td>\n",
       "    </tr>\n",
       "    <tr>\n",
       "      <th>two_fee</th>\n",
       "      <td>890.552913</td>\n",
       "    </tr>\n",
       "  </tbody>\n",
       "</table>\n",
       "</div>"
      ],
      "text/plain": [
       "                 bitcoin\n",
       "one_to_two    149.948516\n",
       "two_to_one   1026.372663\n",
       "zero_to_two    26.036068\n",
       "two_to_zero     4.876490\n",
       "one_fee       210.467653\n",
       "two_fee       890.552913"
      ]
     },
     "execution_count": 381,
     "metadata": {},
     "output_type": "execute_result"
    }
   ],
   "source": [
    "# count sum and change satoshi to bitcoin\n",
    "\n",
    "bitcoin_spent = recive_sent.loc[:, ['one_to_two', 'two_to_one', 'zero_to_two',\n",
    "                    'two_to_zero','one_fee', 'two_fee']].sum().to_frame().rename(columns={0:'bitcoin'})\n",
    "bitcoin_spent.loc[:, 'bitcoin'] = bitcoin_spent.loc[:, 'bitcoin'] / 10**8\n",
    "bitcoin_spent"
   ]
  },
  {
   "cell_type": "code",
   "execution_count": null,
   "metadata": {},
   "outputs": [],
   "source": []
  }
 ],
 "metadata": {
  "kernelspec": {
   "display_name": "Python 3",
   "language": "python",
   "name": "python3"
  },
  "language_info": {
   "codemirror_mode": {
    "name": "ipython",
    "version": 3
   },
   "file_extension": ".py",
   "mimetype": "text/x-python",
   "name": "python",
   "nbconvert_exporter": "python",
   "pygments_lexer": "ipython3",
   "version": "3.7.5"
  }
 },
 "nbformat": 4,
 "nbformat_minor": 4
}
